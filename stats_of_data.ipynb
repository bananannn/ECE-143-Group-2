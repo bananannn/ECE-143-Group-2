{
 "cells": [
  {
   "cell_type": "code",
   "execution_count": 1,
   "metadata": {},
   "outputs": [],
   "source": [
    "import csv\n"
   ]
  },
  {
   "cell_type": "code",
   "execution_count": 2,
   "metadata": {},
   "outputs": [
    {
     "name": "stdout",
     "output_type": "stream",
     "text": [
      "['sourceid', 'dstid', 'month', 'mean_travel_time']\n"
     ]
    }
   ],
   "source": [
    "with open('los_angeles-taz-2017-1-All-MonthlyAggregate.csv') as csvfile:\n",
    "    readCSV = csv.reader(csvfile, delimiter=',')\n",
    "    i = 0\n",
    "    for row in readCSV:\n",
    "        print(row)\n",
    "        break;"
   ]
  },
  {
   "cell_type": "code",
   "execution_count": 5,
   "metadata": {},
   "outputs": [],
   "source": [
    "with open('los_angeles-taz-2017-1-All-MonthlyAggregate.csv') as csvfile:\n",
    "    readCSV = csv.reader(csvfile, delimiter=',')\n",
    "    i = 0\n",
    "    mean1 = 0\n",
    "    for row in readCSV:\n",
    "        if (row[2] == '2'):\n",
    "            mean1 += float(row[3])\n",
    "            i+=1\n",
    "    mean1 = mean1/i        \n",
    "    "
   ]
  },
  {
   "cell_type": "code",
   "execution_count": 6,
   "metadata": {},
   "outputs": [
    {
     "data": {
      "text/plain": [
       "1494.1338046851101"
      ]
     },
     "execution_count": 6,
     "metadata": {},
     "output_type": "execute_result"
    }
   ],
   "source": [
    "mean1"
   ]
  },
  {
   "cell_type": "code",
   "execution_count": 15,
   "metadata": {},
   "outputs": [],
   "source": [
    "def get_stats(fname,month):\n",
    "    with open(fname) as csvfile:\n",
    "        readCSV = csv.reader(csvfile, delimiter=',')\n",
    "        i = 0\n",
    "        mean1 = 0\n",
    "        max_1 = 0\n",
    "        min_1 = 1000000\n",
    "        for row in readCSV:\n",
    "            if (row[2] == month):\n",
    "                mean1 += float(row[3])\n",
    "                if (min_1 >= float(row[3])):\n",
    "                    min_1 = float(row[3])\n",
    "                if (max_1 <= float(row[3])):\n",
    "                    max_1 = float(row[3])\n",
    "                i+=1\n",
    "        mean1 = mean1/i\n",
    "        return [mean1,i,min_1,max_1]"
   ]
  },
  {
   "cell_type": "code",
   "execution_count": 17,
   "metadata": {},
   "outputs": [
    {
     "data": {
      "text/plain": [
       "[1494.1338046851101, 340609, 13.37, 4532.67]"
      ]
     },
     "execution_count": 17,
     "metadata": {},
     "output_type": "execute_result"
    }
   ],
   "source": [
    "get_stats('los_angeles-taz-2017-1-All-MonthlyAggregate.csv','1')"
   ]
  },
  {
   "cell_type": "code",
   "execution_count": 18,
   "metadata": {},
   "outputs": [
    {
     "data": {
      "text/plain": [
       "[1529.6160089250004, 343752, 19.39, 4807.67]"
      ]
     },
     "execution_count": 18,
     "metadata": {},
     "output_type": "execute_result"
    }
   ],
   "source": [
    "get_stats('los_angeles-taz-2017-1-All-MonthlyAggregate.csv','2')"
   ]
  },
  {
   "cell_type": "code",
   "execution_count": 19,
   "metadata": {},
   "outputs": [
    {
     "data": {
      "text/plain": [
       "[1604.2108549643888, 364214, 12.52, 4984.08]"
      ]
     },
     "execution_count": 19,
     "metadata": {},
     "output_type": "execute_result"
    }
   ],
   "source": [
    "get_stats('los_angeles-taz-2017-1-All-MonthlyAggregate.csv','3')\n"
   ]
  },
  {
   "cell_type": "code",
   "execution_count": 20,
   "metadata": {},
   "outputs": [
    {
     "data": {
      "text/plain": [
       "[1521.1567913433641, 352378, 18.65, 4806.29]"
      ]
     },
     "execution_count": 20,
     "metadata": {},
     "output_type": "execute_result"
    }
   ],
   "source": [
    "get_stats('los_angeles-taz-2017-2-All-MonthlyAggregate.csv','4')"
   ]
  },
  {
   "cell_type": "code",
   "execution_count": 21,
   "metadata": {},
   "outputs": [
    {
     "data": {
      "text/plain": [
       "[1504.7064234298866, 349673, 14.74, 4674.03]"
      ]
     },
     "execution_count": 21,
     "metadata": {},
     "output_type": "execute_result"
    }
   ],
   "source": [
    "get_stats('los_angeles-taz-2017-2-All-MonthlyAggregate.csv','5')"
   ]
  },
  {
   "cell_type": "code",
   "execution_count": 22,
   "metadata": {},
   "outputs": [
    {
     "data": {
      "text/plain": [
       "[1527.7792821853077, 346524, 11.82, 5153.3]"
      ]
     },
     "execution_count": 22,
     "metadata": {},
     "output_type": "execute_result"
    }
   ],
   "source": [
    "get_stats('los_angeles-taz-2017-2-All-MonthlyAggregate.csv','6')"
   ]
  },
  {
   "cell_type": "code",
   "execution_count": 23,
   "metadata": {},
   "outputs": [
    {
     "data": {
      "text/plain": [
       "[1495.6350359900084, 344540, 8.91, 4964.8]"
      ]
     },
     "execution_count": 23,
     "metadata": {},
     "output_type": "execute_result"
    }
   ],
   "source": [
    "get_stats('los_angeles-taz-2017-3-All-MonthlyAggregate.csv','7')"
   ]
  },
  {
   "cell_type": "code",
   "execution_count": 24,
   "metadata": {},
   "outputs": [
    {
     "data": {
      "text/plain": [
       "[1533.1610775956847, 347867, 11.89, 4906.79]"
      ]
     },
     "execution_count": 24,
     "metadata": {},
     "output_type": "execute_result"
    }
   ],
   "source": [
    "get_stats('los_angeles-taz-2017-3-All-MonthlyAggregate.csv','8')"
   ]
  },
  {
   "cell_type": "code",
   "execution_count": 25,
   "metadata": {},
   "outputs": [
    {
     "data": {
      "text/plain": [
       "[1553.8610034028432, 356168, 11.84, 5054.57]"
      ]
     },
     "execution_count": 25,
     "metadata": {},
     "output_type": "execute_result"
    }
   ],
   "source": [
    "get_stats('los_angeles-taz-2017-3-All-MonthlyAggregate.csv','9')"
   ]
  },
  {
   "cell_type": "code",
   "execution_count": 26,
   "metadata": {},
   "outputs": [
    {
     "data": {
      "text/plain": [
       "[1599.133402528107, 351327, 15.65, 4852.64]"
      ]
     },
     "execution_count": 26,
     "metadata": {},
     "output_type": "execute_result"
    }
   ],
   "source": [
    "get_stats('los_angeles-taz-2017-4-All-MonthlyAggregate.csv','10')"
   ]
  },
  {
   "cell_type": "code",
   "execution_count": 27,
   "metadata": {},
   "outputs": [
    {
     "data": {
      "text/plain": [
       "[1547.7035577254549, 344605, 15.29, 4869.24]"
      ]
     },
     "execution_count": 27,
     "metadata": {},
     "output_type": "execute_result"
    }
   ],
   "source": [
    "get_stats('los_angeles-taz-2017-4-All-MonthlyAggregate.csv','11')"
   ]
  },
  {
   "cell_type": "code",
   "execution_count": 28,
   "metadata": {},
   "outputs": [
    {
     "data": {
      "text/plain": [
       "[1521.7038729819724, 352643, 23.48, 4794.5]"
      ]
     },
     "execution_count": 28,
     "metadata": {},
     "output_type": "execute_result"
    }
   ],
   "source": [
    "get_stats('los_angeles-taz-2017-4-All-MonthlyAggregate.csv','12')"
   ]
  },
  {
   "cell_type": "code",
   "execution_count": 29,
   "metadata": {},
   "outputs": [
    {
     "data": {
      "text/plain": [
       "[1530.5063915461303, 337125, 10.53, 4596.38]"
      ]
     },
     "execution_count": 29,
     "metadata": {},
     "output_type": "execute_result"
    }
   ],
   "source": [
    "get_stats('los_angeles-taz-2018-1-All-MonthlyAggregate.csv','1')"
   ]
  },
  {
   "cell_type": "code",
   "execution_count": 30,
   "metadata": {},
   "outputs": [
    {
     "data": {
      "text/plain": [
       "[1619.2561226877294, 342740, 18.7, 4748.94]"
      ]
     },
     "execution_count": 30,
     "metadata": {},
     "output_type": "execute_result"
    }
   ],
   "source": [
    "get_stats('los_angeles-taz-2018-1-All-MonthlyAggregate.csv','2')"
   ]
  },
  {
   "cell_type": "code",
   "execution_count": 31,
   "metadata": {},
   "outputs": [
    {
     "data": {
      "text/plain": [
       "[1668.9523597678535, 368710, 10.08, 4723.59]"
      ]
     },
     "execution_count": 31,
     "metadata": {},
     "output_type": "execute_result"
    }
   ],
   "source": [
    "get_stats('los_angeles-taz-2018-1-All-MonthlyAggregate.csv','3')"
   ]
  },
  {
   "cell_type": "code",
   "execution_count": null,
   "metadata": {},
   "outputs": [],
   "source": []
  }
 ],
 "metadata": {
  "kernelspec": {
   "display_name": "Python 3",
   "language": "python",
   "name": "python3"
  },
  "language_info": {
   "codemirror_mode": {
    "name": "ipython",
    "version": 3
   },
   "file_extension": ".py",
   "mimetype": "text/x-python",
   "name": "python",
   "nbconvert_exporter": "python",
   "pygments_lexer": "ipython3",
   "version": "3.6.5"
  }
 },
 "nbformat": 4,
 "nbformat_minor": 2
}
